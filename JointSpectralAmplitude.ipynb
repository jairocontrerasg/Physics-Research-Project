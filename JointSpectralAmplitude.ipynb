{
 "cells": [
  {
   "cell_type": "code",
   "execution_count": 1,
   "id": "176f8004-afac-42c1-adac-53aa20696580",
   "metadata": {},
   "outputs": [],
   "source": [
    "import numpy as np\n",
    "import matplotlib.pyplot as plt\n",
    "%matplotlib inline"
   ]
  },
  {
   "cell_type": "code",
   "execution_count": 442,
   "id": "6c514833-8f37-4e92-931e-a2b9846c08ee",
   "metadata": {},
   "outputs": [],
   "source": [
    "#input values - array of wavelengths\n",
    "\n",
    "p_wave = np.linspace(320,480,300)\n",
    "o_wave = np.linspace(720,880,300)\n",
    "\n",
    "#differences\n",
    "\n",
    "p_diff = np.subtract(400,p_wave)\n",
    "o_diff = np.subtract(800,o_wave)\n",
    "\n",
    "#central wavelength values\n",
    "\n",
    "p_wave_central = 400\n",
    "o_wave_central = 800\n",
    "\n",
    "#conversion from nanometers to micrometers\n",
    "\n",
    "def nano_to_micro(value):\n",
    "    return np.multiply(value, 0.001)\n",
    "\n",
    "#conversion from nanometers to meters\n",
    "\n",
    "def nano_to_meters(value_nano):\n",
    "    return np.multiply(value_nano, 1e-9)\n",
    "\n",
    "#Sellmeier functions in micrometers\n",
    "\n",
    "def sellmeier_ne(freq_o_central):\n",
    "    o_wave_nm = freq_to_wave(freq_o_central)*1e9\n",
    "    o_wave_micro = (nano_to_micro(o_wave_nm))\n",
    "    ne_step_1 = np.divide(0.01224,np.subtract(np.power(o_wave_micro,2),0.01667))\n",
    "    ne_step_2 = np.multiply(0.01516,np.power(o_wave_micro,2))\n",
    "    ne = np.sqrt(np.add (2.3753, np.subtract(ne_step_1, ne_step_2)))\n",
    "    return ne\n",
    "\n",
    "def sellmeier_no(freq_o_central):\n",
    "    o_wave_nm = freq_to_wave(freq_o_central)*1e9\n",
    "    o_wave_micro = (nano_to_micro(o_wave_nm))\n",
    "    no_step_1 = np.divide(0.01878,np.subtract(np.power(o_wave_micro,2),0.01822))\n",
    "    no_step_2 = np.multiply(0.01354,np.power(o_wave_micro,2))\n",
    "    no = np.sqrt(np.add(2.7359, np.subtract(no_step_1, no_step_2)))\n",
    "    return no\n",
    "\n",
    "#Sellmeier derivatives\n",
    "\n",
    "# ----ne----\n",
    "\n",
    "# ne first derivative\n",
    "\n",
    "def sellmeier_ne_first(freq_o_central):\n",
    "    o_wave_nm = freq_to_wave(freq_o_central)*1e9\n",
    "    o_wave_micro = (nano_to_micro(o_wave_nm))\n",
    "    ne_first_step_1 = np.multiply(np.add(np.multiply(np.power(np.subtract(np.power(o_wave_micro, 2), 0.0167), 2), 0.0098), 0.00794), o_wave_micro)\n",
    "    ne_first_step_2 = np.sqrt( - np.divide(np.subtract(np.multiply(np.subtract(np.multiply(np.power(o_wave_micro, 2), 0.00638), 1), np.subtract(np.power(o_wave_micro, 2), 0.0167)), 0.00515), np.subtract(np.power(o_wave_micro, 2), 0.0167)))\n",
    "    ne_first_step_3 = np.power(np.subtract(np.power(o_wave_micro, 2), 0.0167), 2)\n",
    "    return np.divide( - ne_first_step_1, np.multiply(ne_first_step_2, ne_first_step_3))\n",
    "\n",
    "# ne second derivative\n",
    "\n",
    "def sellmeier_ne_second(freq_o_central):\n",
    "    o_wave_nm = freq_to_wave(freq_o_central)*1e9\n",
    "    o_wave_micro = (nano_to_micro(o_wave_nm))\n",
    "    ne_second_step_1 = np.multiply(-0.0000628, np.multiply(np.sqrt(np.divide(np.add(np.multiply(np.subtract(1, np.multiply(np.power(o_wave_micro, 2), 0.00638)), np.subtract(np.power(o_wave_micro, 2), 0.0167)), 0.00515), np.subtract(np.power(o_wave_micro, 2), 0.0167))), np.power(o_wave_micro, 2)))\n",
    "    ne_second_step_2 = np.power(np.add(np.power(np.subtract(np.power(o_wave_micro, 2), 0.0167), 2), 0.8074), 2) \n",
    "    ne_second_step_3 = np.power(np.divide(np.add(np.multiply(np.subtract(1, np.multiply(np.power(o_wave_micro, 2), 0.00638)), np.subtract(np.power(o_wave_micro, 2), 0.0167)), 0.00515), np.subtract(np.power(o_wave_micro, 2), 0.0167)), 1.5)\n",
    "    ne_second_step_4 = np.multiply(np.subtract(np.power(o_wave_micro, 2), 0.0167), np.add(np.subtract(np.multiply(0.0238, np.power(o_wave_micro, 2)), np.multiply(0.0098, np.power(np.subtract(np.power(o_wave_micro, 2), 0.0167), 3))), 0.000132))\n",
    "    ne_second_numerator = np.add(np.multiply(ne_second_step_1, ne_second_step_2), np.multiply(ne_second_step_3, ne_second_step_4))\n",
    "    ne_second_step_5 = np.power(np.divide(np.add(np.multiply(np.subtract(1, np.multiply(np.power(o_wave_micro, 2), 0.00638)), np.subtract(np.power(o_wave_micro, 2), 0.0167)), 0.00515), np.subtract(np.power(o_wave_micro, 2), 0.0167)), 2)\n",
    "    ne_second_step_6 = np.power(np.subtract(np.power(o_wave_micro, 2), 0.0167), 4)\n",
    "    ne_second_denominator = np.multiply(ne_second_step_5, ne_second_step_6)\n",
    "    return np.divide(ne_second_numerator, ne_second_denominator)\n",
    "\n",
    "#----no----\n",
    "\n",
    "# no first derivative\n",
    "\n",
    "def sellmeier_no_first(freq_o_central):\n",
    "    o_wave_nm = freq_to_wave(freq_o_central)*1e9\n",
    "    o_wave_micro = (nano_to_micro(o_wave_nm))\n",
    "    no_first_step_1 = np.multiply(np.add(np.multiply(np.power(np.subtract(np.power(o_wave_micro, 2), 0.01878), 2), 0.00818), 0.001135), o_wave_micro)\n",
    "    no_first_step_2 = np.sqrt( - np.divide(np.subtract(np.multiply(np.subtract(np.multiply(np.power(o_wave_micro, 2), 0.00495), 1), np.subtract(np.power(o_wave_micro, 2), 0.01878)), 0.006864), np.subtract(np.power(o_wave_micro, 2), 0.01878)))\n",
    "    no_first_step_3 = np.power(np.subtract(np.power(o_wave_micro, 2), 0.01878), 2)\n",
    "    return np.divide( - no_first_step_1, np.multiply(no_first_step_2, no_first_step_3))\n",
    "\n",
    "# no second derivative\n",
    "\n",
    "def sellmeier_no_second(freq_o_central):\n",
    "    o_wave_nm = freq_to_wave(freq_o_central)*1e9\n",
    "    o_wave_micro = (nano_to_micro(o_wave_nm))\n",
    "    no_second_step_1 = np.multiply(-0.00007793, np.multiply(np.sqrt(np.divide(np.add(np.multiply(np.subtract(1, np.multiply(np.power(o_wave_micro, 2), 0.00495)), np.subtract(np.power(o_wave_micro, 2), 0.01878)), 0.00686), np.subtract(np.power(o_wave_micro, 2), 0.01878))), np.power(o_wave_micro, 2)))\n",
    "    no_second_step_2 = np.power(np.add(np.multiply(np.power(np.subtract(np.power(o_wave_micro, 2), 0.01878), 2), 0.7209), 1), 2)\n",
    "    no_second_step_3 = np.power(np.divide(np.add(np.multiply(np.subtract(1, np.multiply(np.power(o_wave_micro, 2), 0.00495)), np.subtract(np.power(o_wave_micro, 2), 0.01878)), 0.0068), np.subtract(np.power(o_wave_micro, 2), 0.01878)), 1.5)\n",
    "    no_second_step_4 = np.multiply(np.subtract(np.power(o_wave_micro, 2), 0.01878), np.add(np.subtract(np.multiply(0.03406, np.power(o_wave_micro, 2)), np.multiply(0.00818, np.power(np.subtract(np.power(o_wave_micro, 2), 0.01878), 3))), 0.0002132))\n",
    "    no_second_numerator = np.add(np.multiply(no_second_step_1, no_second_step_2), np.multiply(no_second_step_3, no_second_step_4))\n",
    "    no_second_step_5 = np.power(np.divide(np.add(np.multiply(np.subtract(1, np.multiply(np.power(o_wave_micro, 2), 0.00495)), np.subtract(np.power(o_wave_micro, 2), 0.01878)), 0.006864), np.subtract(np.power(o_wave_micro, 2), 0.01878)), 2)\n",
    "    no_second_step_6 = np.power(np.subtract(np.power(o_wave_micro, 2), 0.01878), 4)\n",
    "    no_second_denominator = np.multiply(no_second_step_5, no_second_step_6)\n",
    "    return np.divide(no_second_numerator, no_second_denominator)\n",
    "\n",
    "#conversion between wavelength and frequency\n",
    "\n",
    "def wave_to_freq(value_wave):\n",
    "    wave_meters = nano_to_meters(value_wave)\n",
    "    freq_hz = np.divide(3e8, wave_meters)\n",
    "    return freq_hz \n",
    "\n",
    "def freq_to_wave(value_freq):\n",
    "    wave_m = np.divide(3e8, value_freq)\n",
    "    return wave_m "
   ]
  },
  {
   "cell_type": "code",
   "execution_count": 443,
   "id": "65dcea26-da3c-48e1-9a9c-816621426270",
   "metadata": {},
   "outputs": [
    {
     "name": "stdout",
     "output_type": "stream",
     "text": [
      "-11107.25768346372\n",
      "-11077.50110165934\n"
     ]
    }
   ],
   "source": [
    "#Wavevector equations\n",
    "\n",
    "def ke(freq_o_central):\n",
    "    return np.divide(np.multiply(sellmeier_ne(freq_o_central),freq_o_central),3e8)\n",
    "    \n",
    "def ko(freq_o_central):\n",
    "    return np.divide(np.multiply(sellmeier_no(freq_o_central),freq_o_central),3e8)\n",
    "\n",
    "#Wavevector derivatives\n",
    "\n",
    "#for ke\n",
    "\n",
    "def ke_first_der(freq_o_central):\n",
    "    return np.divide(np.add(np.multiply(sellmeier_ne_first(freq_o_central), freq_o_central), sellmeier_ne(freq_o_central)), 3e8)\n",
    "    \n",
    "\n",
    "def ke_second_der(freq_o_central):\n",
    "    return np.divide(np.add(np.multiply(sellmeier_ne_second(freq_o_central), freq_o_central), np.multiply(2, sellmeier_ne_first(freq_o_central))), 3e8)\n",
    "\n",
    "#for ko\n",
    "\n",
    "def ko_first_der(freq_o_central):\n",
    "    return np.divide(np.add(np.multiply(sellmeier_no_first(freq_o_central), freq_o_central), sellmeier_no(freq_o_central)), 3e8)\n",
    "\n",
    "def ko_second_der(freq_o_central):\n",
    "    return np.divide(np.add(np.multiply(sellmeier_no_second(freq_o_central), freq_o_central), np.multiply(2, sellmeier_no_first(freq_o_central))), 3e8)\n",
    "\n",
    "print(ke_first_der(wave_to_freq(2*o_wave_central)))\n",
    "print(ko_first_der(wave_to_freq(o_wave_central)))\n"
   ]
  },
  {
   "cell_type": "code",
   "execution_count": 466,
   "id": "c3309de0-aad0-4c9b-b5c4-b2354ec19e0f",
   "metadata": {},
   "outputs": [
    {
     "name": "stdout",
     "output_type": "stream",
     "text": [
      "[[-3.15529926e+19 -3.14358259e+19 -3.13188331e+19 ... -3.02562943e+18\n",
      "  -2.94699384e+18 -2.86845388e+18]\n",
      " [-3.14358259e+19 -3.13186592e+19 -3.12016664e+19 ... -2.90846273e+18\n",
      "  -2.82982714e+18 -2.75128718e+18]\n",
      " [-3.13188331e+19 -3.12016664e+19 -3.10846736e+19 ... -2.79146993e+18\n",
      "  -2.71283434e+18 -2.63429438e+18]\n",
      " ...\n",
      " [-3.02562943e+18 -2.90846273e+18 -2.79146993e+18 ...  2.55017338e+19\n",
      "   2.55803694e+19  2.56589093e+19]\n",
      " [-2.94699384e+18 -2.82982714e+18 -2.71283434e+18 ...  2.55803694e+19\n",
      "   2.56590050e+19  2.57375449e+19]\n",
      " [-2.86845388e+18 -2.75128718e+18 -2.63429438e+18 ...  2.56589093e+19\n",
      "   2.57375449e+19  2.58160849e+19]]\n",
      "[[ 1.10270140e+34  1.09452697e+34  1.08639452e+34 ... -4.54047937e+31\n",
      "  -5.14170943e+31 -5.72875832e+31]\n",
      " [ 1.09452697e+34  1.08638344e+34  1.07828185e+34 ... -5.19022131e+31\n",
      "  -5.77070958e+31 -6.33704191e+31]\n",
      " [ 1.08639452e+34  1.07828185e+34  1.07021107e+34 ... -5.80915080e+31\n",
      "  -6.36892807e+31 -6.91457458e+31]\n",
      " ...\n",
      " [-4.54047937e+31 -5.19022131e+31 -5.80915080e+31 ...  7.20304668e+33\n",
      "   7.24753581e+33  7.29210533e+33]\n",
      " [-5.14170943e+31 -5.77070958e+31 -6.36892807e+31 ...  7.24753581e+33\n",
      "   7.29216414e+33  7.33687270e+33]\n",
      " [-5.72875832e+31 -6.33704191e+31 -6.91457458e+31 ...  7.29210533e+33\n",
      "   7.33687270e+33  7.38172012e+33]]\n"
     ]
    }
   ],
   "source": [
    "#define nu_o\n",
    "\n",
    "nu_o_1 = np.subtract(wave_to_freq(o_wave), wave_to_freq(o_wave_central))\n",
    "\n",
    "#First order contribution\n",
    "\n",
    "def k_first_order(o_wave_central, p_wave, nu_o_1):\n",
    "    freq_o_central = wave_to_freq(o_wave_central)\n",
    "    freq_p = wave_to_freq(p_wave)\n",
    "    ke_cons = ke_first_der(2 * freq_o_central)\n",
    "    ko_cons = ko_first_der(freq_o_central)\n",
    "    mult_same_rows = np.array([[i] * len(nu_o_1) for i in nu_o_1])\n",
    "    mult_same_cols = np.full(shape=len(freq_p) ** 2, fill_value=1).reshape(len(freq_p), len(freq_p)) * nu_o_1\n",
    "    mult_summation = np.add(mult_same_rows, mult_same_cols )\n",
    "    step_1 = np.multiply(ke_cons, mult_summation)\n",
    "    step_2 = np.multiply(ko_cons, mult_summation)\n",
    "    return np.subtract(step_1, step_2)\n",
    "\n",
    "#Second order contribution \n",
    "\n",
    "def k_second_order(o_wave_central, p_wave, nu_o_1):\n",
    "    freq_o_central = wave_to_freq(o_wave_central)\n",
    "    freq_p = wave_to_freq(p_wave)\n",
    "    ke_cons = ke_second_der(2 * freq_o_central)\n",
    "    ko_cons = ko_second_der(freq_o_central)\n",
    "    mult_same_rows = np.array([[i] * len(nu_o_1) for i in nu_o_1])\n",
    "    mult_same_cols = np.full(shape=len(freq_p) ** 2, fill_value=1).reshape(len(freq_p), len(freq_p)) * nu_o_1\n",
    "    mult_summation = np.add(mult_same_rows, mult_same_cols)\n",
    "    mult_same_rows_sq = np.power(np.array([[i] * len(nu_o_1) for i in nu_o_1]), 2)\n",
    "    mult_same_cols_sq = np.power(np.full(shape=len(freq_p) ** 2, fill_value=1).reshape(len(freq_p), len(freq_p)) * nu_o_1, 2)\n",
    "    mult_summation_sq = np.add(mult_same_rows_sq, mult_same_cols_sq)\n",
    "    step_1 = np.multiply(ke_cons, np.power(mult_summation, 2))\n",
    "    step_2 = np.multiply(ko_cons, mult_summation_sq)\n",
    "    return np.multiply(np.subtract(step_1, step_2), 0.5)\n",
    "\n",
    "print(k_first_order(o_wave_central, p_wave, nu_o_1))\n",
    "print(k_second_order(o_wave_central, p_wave, nu_o_1))"
   ]
  },
  {
   "cell_type": "code",
   "execution_count": 483,
   "id": "60e03877-04b6-47c3-9224-b975455dd8c8",
   "metadata": {},
   "outputs": [],
   "source": [
    "#Phasematching function\n",
    "\n",
    "#length L of the crystal in meters ?\n",
    "\n",
    "L = 1e-3 #confirm the value\n",
    "\n",
    "def phasematch_func(o_wave_central, p_wave):\n",
    "    #print(k_second_order(o_wave_central,p_wave, nu_o))\n",
    "    step_1 = np.exp(np.multiply(np.divide(np.multiply(1j, k_second_order(o_wave_central, p_wave, nu_o_1)),L),2))\n",
    "    #step_2 = np.exp(np.multiply(-0.193, np.power(np.multiply(k_first_order(o_wave_central, p_wave, nu_o), L/2), 2)))\n",
    "    step_2 = np.sinc(np.divide(np.multiply(k_first_order(o_wave_central, p_wave, nu_o_1), L), 2))\n",
    "    return np.multiply(step_1, step_2)\n",
    "\n",
    "#print(phasematch_func(o_wave_central, p_wave)) \n",
    "\n",
    "#Pump function\n",
    "\n",
    "def pump_func(p_wave, nu_o_1):\n",
    "    sigma = np.divide(0.5 * wave_to_freq(p_wave[-1]-p_wave[1]), np.sqrt(2 * np.log(2)))\n",
    "    nu_o_first = np.array([[i] * len(nu_o_1) for i in nu_o_1])\n",
    "    nu_o_second = np.full(shape=len(p_wave) ** 2, fill_value=1).reshape(len(p_wave), len(p_wave)) * nu_o_1\n",
    "    nu_o_sum = np.add(nu_o_first, nu_o_second)\n",
    "    return np.exp(-np.power(np.divide(nu_o_sum, sigma), 2))\n",
    "\n",
    "#print(pump_func(p_wave, nu_o_1))"
   ]
  },
  {
   "cell_type": "code",
   "execution_count": 484,
   "id": "912a4e9a-c456-46ec-8bbc-b63b303750ef",
   "metadata": {},
   "outputs": [],
   "source": [
    "#Product of the phasematching function and the pump function\n",
    "\n",
    "def joint_amp(o_wave_central, p_wave, nu_o_1):\n",
    "    return np.multiply(phasematch_func(o_wave_central, p_wave), pump_func(p_wave, nu_o_1))"
   ]
  },
  {
   "cell_type": "code",
   "execution_count": 485,
   "id": "5bb2aada-c5fb-4544-9cd9-d36b48ca33dc",
   "metadata": {},
   "outputs": [
    {
     "name": "stdout",
     "output_type": "stream",
     "text": [
      "[[ 1.33646421e-17-1.31066556e-17j -1.50993572e-17+1.31072354e-17j\n",
      "   3.11854864e-18+1.96196479e-17j ... -1.75127897e-16+6.88164957e-17j\n",
      "   1.77519062e-16+6.20214495e-17j -1.03183197e-16-1.09225675e-16j]\n",
      " [-1.50993572e-17+1.31072354e-17j -7.91548167e-18+1.59935239e-17j\n",
      "   1.51615023e-19+7.98389605e-18j ...  8.99604629e-17-1.97808650e-16j\n",
      "   8.78222870e-17-1.67952753e-16j  2.10936646e-16+7.69462394e-17j]\n",
      " [ 3.11854864e-18+1.96196479e-17j  1.51615023e-19+7.98389605e-18j\n",
      "  -3.76821503e-18-4.03146288e-19j ... -1.14288860e-17-1.27060630e-18j\n",
      "   2.15004906e-16-9.25013399e-17j -1.70148003e-17+1.52353492e-16j]\n",
      " ...\n",
      " [-1.75127897e-16+6.88164957e-17j  8.99604629e-17-1.97808650e-16j\n",
      "  -1.14288860e-17-1.27060630e-18j ...  2.84062853e-20-1.41590407e-19j\n",
      "   2.00107955e-17-1.11489357e-17j -1.68300809e-17-4.40599132e-18j]\n",
      " [ 1.77519062e-16+6.20214495e-17j  8.78222870e-17-1.67952753e-16j\n",
      "   2.15004906e-16-9.25013399e-17j ...  2.00107955e-17-1.11489357e-17j\n",
      "  -1.61450866e-17+5.39037846e-18j  1.87040475e-17+1.45846905e-17j]\n",
      " [-1.03183197e-16-1.09225675e-16j  2.10936646e-16+7.69462394e-17j\n",
      "  -1.70148003e-17+1.52353492e-16j ... -1.68300809e-17-4.40599132e-18j\n",
      "   1.87040475e-17+1.45846905e-17j -2.41691545e-18+2.43604223e-17j]]\n"
     ]
    }
   ],
   "source": [
    "print(joint_amp(o_wave_central, p_wave, nu_o_1))"
   ]
  },
  {
   "cell_type": "code",
   "execution_count": 528,
   "id": "3e23a11a-8adc-43ca-a89a-f7def01518a0",
   "metadata": {},
   "outputs": [
    {
     "data": {
      "image/png": "[encoded data removed]",
      "text/plain": [
       "<Figure size 432x288 with 2 Axes>"
      ]
     },
     "metadata": {
      "needs_background": "light"
     },
     "output_type": "display_data"
    }
   ],
   "source": [
    "#plt.plot(nu_o_1, pump_func(p_wave, nu_o_1))\n",
    "plt.contour(nu_o_1, nu_o_1,  pump_func(p_wave, nu_o_1), cmap='RdGy')\n",
    "plt.colorbar();\n",
    "#plt.ylim(5e13, 5e13)\n",
    "#plt.xlim(5e13, 5e13)"
   ]
  },
  {
   "cell_type": "code",
   "execution_count": 525,
   "id": "95204b74-8754-494a-82eb-ced3d8e7454d",
   "metadata": {},
   "outputs": [
    {
     "name": "stdout",
     "output_type": "stream",
     "text": [
      "0.9999407834256027 0.9999930520241372\n"
     ]
    }
   ],
   "source": [
    "delta_k = 12\n",
    "L = 1e-3\n",
    "y = -0.193\n",
    "\n",
    "first = np.sinc(delta_k * L / 2)\n",
    "approx = np.exp(np.power(delta_k * L / 2, 2) * y)\n",
    "\n",
    "print(first, approx)"
   ]
  },
  {
   "cell_type": "code",
   "execution_count": null,
   "id": "d02bb0c4-209e-4ec4-ae46-50861efe7c75",
   "metadata": {},
   "outputs": [],
   "source": []
  },
  {
   "cell_type": "code",
   "execution_count": null,
   "id": "975460e2-db86-42b5-882b-bef74b93c280",
   "metadata": {},
   "outputs": [],
   "source": []
  },
  {
   "cell_type": "code",
   "execution_count": null,
   "id": "1cb19a32-d17d-4813-887c-19ef87a75b07",
   "metadata": {},
   "outputs": [],
   "source": []
  }
 ],
 "metadata": {
  "kernelspec": {
   "display_name": "Python 3",
   "language": "python",
   "name": "python3"
  },
  "language_info": {
   "codemirror_mode": {
    "name": "ipython",
    "version": 3
   },
   "file_extension": ".py",
   "mimetype": "text/x-python",
   "name": "python",
   "nbconvert_exporter": "python",
   "pygments_lexer": "ipython3",
   "version": "3.8.8"
  }
 },
 "nbformat": 4,
 "nbformat_minor": 5
}
